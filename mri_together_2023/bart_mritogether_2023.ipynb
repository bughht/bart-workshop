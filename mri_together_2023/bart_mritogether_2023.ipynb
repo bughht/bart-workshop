{
 "cells": [
  {
   "cell_type": "markdown",
   "metadata": {
    "id": "MIGYtH14DwXD"
   },
   "source": [
    "# Reproducible MRI Reconstruction with BART\n",
    "\n",
    "[Jon Tamir](mailto:jtamir@utexas.edu), Chandra Family Department of Electrical and Computer Engineering, The University of Texas at Austin\n",
    "\n",
    "Based off of previous tutorials from other contributors:  \n",
    "\n",
    "### MRITogether 2021\n",
    "[MRITogether 2021 Tutorial](https://github.com/mrirecon/bart-workshop/tree/master/mri_together_2021)\n",
    "\n",
    "[Martin Uecker](mailto:uecker@tugraz.at)$^{\\dagger,*,+}$, [Nick Scholand](mailto:scholand@tugraz.at)$^{*,+}$, [Moritz Blumenthal](mailto:moritz.blumenthal@med.uni-goettingen.de)$^*$, [Xiaoqing Wang](mailto:xiaoqing.wang@med.uni-goettingen.de)$^{*,+}$\n",
    "\n",
    "$^{\\dagger}$Graz University of Technology, $^*$University Medical Center Göttingen, $^+$German Centre for Cardiovascular Research, Partner Site Göttingen\n",
    "\n",
    "### BART Webinar 1, 2020\n",
    "[BART Webinar 1 Tutorial](https://github.com/mrirecon/bart-webinars/tree/master/webinar1)\n",
    "\n",
    "[Max Litster](mailto:maxlitster@berkeley.edu), UC Berkeley"
   ]
  },
  {
   "cell_type": "markdown",
   "metadata": {
    "id": "-qlxDlsU71vb"
   },
   "source": [
    "The purpose of this notebook is to introduce the [BART toolbox](https://mrirecon.github.io/bart), and its use as a tool for reproducible research in MRI.\n",
    "\n",
    "We recommend checking other points of reference, primarily available in the following locations:\n",
    "- [BART Workshops](https://github.com/mrirecon/bart-workshop)\n",
    "- [BART Webinars](https://github.com/mrirecon/bart-webinars) (and [webinar recordings](https://www.youtube.com/@bart-toolboxdepartmental7435/playlists)\\)\n"
   ]
  },
  {
   "cell_type": "markdown",
   "metadata": {
    "id": "hBjVg_bNnHzj"
   },
   "source": [
    "## Installation\n",
    "__New:__ BART Version 0.9.00 has been released! Check the announcement on our [mailing list](https://lists.eecs.berkeley.edu/sympa/arc/mrirecon/2023-12/msg00000.html).\n",
    "\n",
    "This version has been archived at CERN as:  \n",
    "\n",
    "BART: version 0.9.00 (2023) DOI:10.5281/zenodo.10277939\n",
    "\n"
   ]
  },
  {
   "cell_type": "markdown",
   "metadata": {
    "id": "e5RxFHCDnKGt"
   },
   "source": [
    "### Local Usage\n",
    "- Install bart from its [github repository](https://github.com/mrirecon/bart)\n",
    "- Set the `TOOLBOX_PATH` to the BART directory and add it to the `PATH`\n",
    "\n",
    "```bash\n",
    "export TOOLBOX_PATH=/path/to/bart  \n",
    "export PATH=$TOOLBOX_PATH:$PATH\n",
    "```\n",
    "\n",
    "Although the simplest way to call the BART CLI tools is from a terminal, there are also wrapper functions that allow the tools to be used from Matlab and Python. These are located under the `$TOOLBOX_PATH/matlab` and `$TOOLBOX_PATH/python` directories."
   ]
  },
  {
   "cell_type": "markdown",
   "metadata": {
    "id": "f09HrbbxDwXJ"
   },
   "source": [
    "### Online Usage\n",
    "We recommend running BART locally when possible. For demonstration purposes, MyBinder and Google Colaboratory can be used to access a Jupyter instance with BART with a browser. In the following we install and configure BART for both.\n",
    "\n",
    "The following code will automatically detect which service you are using."
   ]
  },
  {
   "cell_type": "code",
   "execution_count": null,
   "metadata": {
    "id": "pqkS51t1DwXK"
   },
   "outputs": [],
   "source": [
    "# Check if notebook runs on colab\n",
    "import sys, os\n",
    "\n",
    "os.environ['COLAB'] = 'true' if ('google.colab' in sys.modules) else 'false'\n",
    "os.environ['CUDA'] = '0'"
   ]
  },
  {
   "cell_type": "markdown",
   "metadata": {
    "id": "leAhIZJ9oWWR"
   },
   "source": [
    "#### BART Installation\n",
    "\n",
    "Here we install BARTs dependencies, clone its repository from github, and compile it."
   ]
  },
  {
   "cell_type": "code",
   "execution_count": null,
   "metadata": {
    "id": "KYpxLsEEDwXN"
   },
   "outputs": [],
   "source": [
    "%%bash\n",
    "\n",
    "# MyBinder has BART already installed via the container\n",
    "if $COLAB; then\n",
    "\n",
    "  # Install BARTs dependencies\n",
    "  apt-get install -y make gcc libfftw3-dev liblapacke-dev libpng-dev libopenblas-dev &> /dev/null\n",
    "\n",
    "  # Clone Bart\n",
    "  [ -d /content/bart ] && rm -r /content/bart\n",
    "  git clone https://github.com/mrirecon/bart/ bart &> /dev/null\n",
    "fi"
   ]
  },
  {
   "cell_type": "code",
   "execution_count": null,
   "metadata": {
    "colab": {
     "base_uri": "https://localhost:8080/"
    },
    "id": "tDWAtWn0DwXP",
    "outputId": "8b1d198b-3d16-45d6-f4cb-89ac7e1659f0"
   },
   "outputs": [],
   "source": [
    "%%bash\n",
    "\n",
    "if $COLAB; then\n",
    "\n",
    "  cd bart\n",
    "\n",
    "  # Configuration\n",
    "  COMPILE_SPECS=\" PARALLEL=1\n",
    "                  OPENBLAS=1\n",
    "                  BLAS_THREADSAFE=1\"\n",
    "\n",
    "  printf \"%s\\n\" $COMPILE_SPECS > Makefiles/Makefile.local\n",
    "\n",
    "  # Compile BART\n",
    "  make &> /dev/null && echo ok\n",
    "fi"
   ]
  },
  {
   "cell_type": "markdown",
   "metadata": {
    "id": "hb0N6uqDDwXR"
   },
   "source": [
    "#### Setup Environment for BART\n",
    "\n",
    "After downloading and compiling BART, the next step simplifies the handling of BARTs command line interface inside an ipyhton jupyter notebook. We add the BART directory to the PATH variable and include the python wrapper for reading *.cfl files:"
   ]
  },
  {
   "cell_type": "code",
   "execution_count": null,
   "metadata": {
    "id": "sU6XPDEyDwXU"
   },
   "outputs": [],
   "source": [
    "if os.environ['COLAB'] == 'true':\n",
    "    os.environ['TOOLBOX_PATH'] = \"./bart\"\n",
    "    os.environ['PATH'] = os.environ['TOOLBOX_PATH'] + \":\" + os.environ['PATH']\n",
    "    sys.path.append(os.environ['TOOLBOX_PATH'] + \"/python/\")"
   ]
  },
  {
   "cell_type": "markdown",
   "metadata": {
    "id": "skXvcEL4DwXW"
   },
   "source": [
    "Check BART setup:"
   ]
  },
  {
   "cell_type": "code",
   "execution_count": null,
   "metadata": {
    "colab": {
     "base_uri": "https://localhost:8080/"
    },
    "id": "SQAZz46ODwXW",
    "outputId": "1ff77db6-d163-4118-9acb-0bc06c8c441d"
   },
   "outputs": [],
   "source": [
    "%%bash\n",
    "echo \"# BART version: \"\n",
    "bart version"
   ]
  },
  {
   "cell_type": "markdown",
   "metadata": {
    "id": "-B54--FpFnPB"
   },
   "source": [
    "### Setup Visualization Helper\n",
    "\n",
    "For this tutorial we will visualize some images. Therefore, we need a helper function and some python libraries.\n"
   ]
  },
  {
   "cell_type": "code",
   "execution_count": null,
   "metadata": {
    "id": "jjk7WRl5FqTh"
   },
   "outputs": [],
   "source": [
    "# More python libraries\n",
    "import cfl\n",
    "import numpy as np\n",
    "\n",
    "from matplotlib import pyplot as plt\n",
    "from matplotlib import cm\n",
    "from mpl_toolkits.axes_grid1 import make_axes_locatable\n",
    "from IPython.display import Image\n",
    "\n",
    "def bart_plot(data, title=None, vmin=None, vmax=None, cmap='gray', cbar_label='', mag=True, fsize=10):\n",
    "\n",
    "    # Import data\n",
    "    data = np.abs(data) if mag else data\n",
    "\n",
    "    fig = plt.figure(figsize=(fsize,fsize))\n",
    "    ax1 = fig.add_subplot(111)\n",
    "    im = ax1.imshow(data, interpolation='nearest', cmap=cmap, vmin=vmin, vmax=vmax)\n",
    "    if title:\n",
    "      plt.title(title)\n",
    "    # Style settings\n",
    "    divider = make_axes_locatable(ax1)\n",
    "    cax = divider.append_axes(\"right\", size=\"5%\", pad=0.05)\n",
    "    cbar = plt.colorbar(im, cax=cax)\n",
    "    cbar.set_label(cbar_label)\n",
    "    cbar.ax.tick_params()\n",
    "\n",
    "    ax1.set_yticklabels([])\n",
    "    ax1.set_xticklabels([])\n",
    "    ax1.xaxis.set_ticks_position('none')\n",
    "    ax1.yaxis.set_ticks_position('none')\n",
    "    ax1.set_axis_off()\n",
    "\n",
    "\n",
    "    plt.show()"
   ]
  },
  {
   "cell_type": "markdown",
   "metadata": {
    "id": "SdvGf7xsjhpb"
   },
   "source": [
    "### Download Supporting Materials\n",
    "For this tutorial, we also need to download some data from the GitHub repository."
   ]
  },
  {
   "cell_type": "code",
   "execution_count": null,
   "metadata": {
    "colab": {
     "base_uri": "https://localhost:8080/"
    },
    "id": "ouqzdOLhjp1t",
    "outputId": "38bc1947-fea0-41aa-bb89-6a3cb3ac7b20"
   },
   "outputs": [],
   "source": [
    "%%bash\n",
    "\n",
    "# Download the required supporting material if it is not already there\n",
    "[ ! -f data.zip ] && wget -q https://github.com/mrirecon/bart-workshop/raw/master/mri_together_2023/data.zip\n",
    "unzip -n data.zip"
   ]
  },
  {
   "cell_type": "markdown",
   "metadata": {
    "id": "5Gqo3SJqDwXZ"
   },
   "source": [
    "## BART Fundamentals\n",
    "BART provides a number of tools for MRI image reconstruction and multi-dimensional array manipulation. We can get a list of them by running `bart` with no arguments.\n",
    "\n",
    "Note: The ! character indicates that the following cell should be executed in bash vs. the native python kernel. It is not necessary when running BART commands from your terminal.\n",
    "\n"
   ]
  },
  {
   "cell_type": "code",
   "execution_count": null,
   "metadata": {
    "colab": {
     "base_uri": "https://localhost:8080/"
    },
    "id": "dM-uW8dEDwXZ",
    "outputId": "875136d4-8c3c-4c86-e5b3-c81ce1f7f534",
    "scrolled": true
   },
   "outputs": [],
   "source": [
    "# get a list of BART commands by running bart with no arguments:\n",
    "! bart"
   ]
  },
  {
   "cell_type": "markdown",
   "metadata": {
    "id": "_zfuPZNkDwXb"
   },
   "source": [
    "### BART Command Structure\n",
    "\n",
    "All BART commands are structured in the following way:\n",
    "\n",
    "> **`bart`** + **`command`** + **`options`** + **`input / output`**\n",
    "\n",
    "Each BART command consists of a number of optional arguments, followed by input and output files. To get some information about a command, use the -h flag. Optional arguments are indicated by brackets, and files are indicated by carrot symbols.\n",
    "\n",
    "For example, the following command demonstrates the full suite of options for generating a numerical phantom in the image or k-space domain:"
   ]
  },
  {
   "cell_type": "code",
   "execution_count": null,
   "metadata": {
    "colab": {
     "base_uri": "https://localhost:8080/"
    },
    "id": "mdwlVvNMDwXe",
    "outputId": "ffe0d9c8-ecde-4d9a-e95e-39ea9a631206"
   },
   "outputs": [],
   "source": [
    "! bart phantom -h"
   ]
  },
  {
   "cell_type": "markdown",
   "metadata": {
    "id": "l65K0lkLDwXe"
   },
   "source": [
    "The `phantom` tool includes the option `-k` to create it in k-space, and `-x` to specify the size."
   ]
  },
  {
   "cell_type": "markdown",
   "metadata": {
    "id": "dfVjdySdi4NN"
   },
   "source": [
    "## Python Bindings\n",
    "\n",
    "BART comes equipped with Python bindings that easily integrate with popular scientific computing libraries in Python. This tutorial introduces the structure of the BART python module.\n",
    "\n",
    "If you're running in MyBinder, the paths should be updated and you should be all set to run the following demos.\n",
    "\n",
    "If you are running locally, you will need to directly import the bart module. To do this, you can add BART's python directory to your `PYTHONPATH` environment variable. Add the following line to your .bashrc to do this:\n",
    "\n",
    "```bash\n",
    "export PYTHONPATH=\"${TOOLBOX_PATH}/python:$PYTHONPATH\"\n",
    "```\n",
    "\n",
    "Where `TOOLBOX_PATH` is the location of your BART install.\n",
    "\n",
    "This way, we can import the bart module as well as cfl, our utility file for dealing with BART's data format: a .hdr header file and a .cfl file of complex-float data.\n",
    "\n",
    "If you're already running the demo in MyBinder or Colab, you may have to manually modify the path, which we do here:\n"
   ]
  },
  {
   "cell_type": "code",
   "execution_count": null,
   "metadata": {
    "id": "9TAdC4tUjklM"
   },
   "outputs": [],
   "source": [
    "if os.environ['COLAB'] == 'true':\n",
    "    import os\n",
    "    bart_python_path = '{}/python'.format(os.environ['TOOLBOX_PATH'])\n",
    "    sys.path.append(bart_python_path)"
   ]
  },
  {
   "cell_type": "markdown",
   "metadata": {
    "id": "YC_VvfnUj_uU"
   },
   "source": [
    "After having updated your `PYTHONPATH`, the following cells should execute error-free:"
   ]
  },
  {
   "cell_type": "code",
   "execution_count": null,
   "metadata": {
    "id": "1ZoSTZfzl53p"
   },
   "outputs": [],
   "source": [
    "from bart import bart\n",
    "import cfl"
   ]
  },
  {
   "cell_type": "markdown",
   "metadata": {
    "id": "LuY9EsuamJOu"
   },
   "source": [
    "### BART Python Command Structure\n",
    "The `bart` module allows a user to execute any BART command-line tool via the following format:\n",
    "\n",
    "```python\n",
    "<outputs> = bart(<nargout>, <command>, <arguments>, ...)\n",
    "```\n",
    "where:\n",
    "- `<outputs>` are the data file outputs of a BART command\n",
    "- `<nargout>` is the number of outputs expected by the command\n",
    "- `<command>` is the command string with flags\n",
    "- `<arguments>` are the data files passed in for use in the function\n",
    "\n",
    "Similar to the bash interface, we can also get the help string in a similar way:"
   ]
  },
  {
   "cell_type": "code",
   "execution_count": null,
   "metadata": {
    "colab": {
     "base_uri": "https://localhost:8080/"
    },
    "id": "cx1G7huzmBOx",
    "outputId": "efb88d46-6774-4932-ebf2-9909ffda0ddb"
   },
   "outputs": [],
   "source": [
    "bart(0, 'phantom -h')"
   ]
  },
  {
   "cell_type": "markdown",
   "metadata": {
    "id": "1CbROe_6n3ZH"
   },
   "source": [
    "### Create phantoms\n",
    "\n",
    "We will use the phantom tool to create various types of phantoms"
   ]
  },
  {
   "cell_type": "code",
   "execution_count": null,
   "metadata": {
    "colab": {
     "base_uri": "https://localhost:8080/",
     "height": 1000
    },
    "id": "G4IikpLXDwXe",
    "outputId": "2795cfce-971c-4695-b914-a09591592cb1"
   },
   "outputs": [],
   "source": [
    "# Create a \"BART logo\" phantom in the image domain\n",
    "bart_phantom = bart(1, 'phantom -x 256 -B').T\n",
    "\n",
    "bart_plot(bart_phantom, title='BART logo')\n",
    "\n",
    "\n",
    "# Create a \"BART logo\" phantom in k-space\n",
    "bart_phantom_ksp = bart(1, 'phantom -x 256 -B -k').T\n",
    "\n",
    "bart_plot(bart_phantom_ksp, title='BART logo (kspace)', vmax=.02)\n"
   ]
  },
  {
   "cell_type": "markdown",
   "metadata": {
    "id": "SnC5NmoMQPFb"
   },
   "source": [
    "## File formats and metadata\n",
    "\n",
    "BART data files are (typically) stored in two files, a header (`.hdr`) file which contains metadata (dimensions, file type, etc.) and a complex float (`.cfl`) file which contains the raw data. The header file can be opened and read as a normal text file, while the raw data is a binary file. The raw data is a multi-dimensional array of single-precision complex floats, stored in row-major order with interleaved real and imaginary components.\n",
    "\n",
    "A Note about data formats: Saving and loading files are not Python in the purest sense, in that data is not stored in RAM the entire time during execution. Under the hood, the Python bindings are writing .hdr/.cfl files to and from the disk. A RAM disk can be used if users are looking to improve performance in this aspect.\n",
    "\n",
    "### Writing to and from `.cfl` files\n",
    "\n",
    "The `cfl` Python library has some helpful tools to save or load BART data into a numpy-compatible format. In the first example, we will create a complex float array in numpy and then load it into BART from the command line. In the second example, we generate an array via the CLI and load it into Python via the cfl library."
   ]
  },
  {
   "cell_type": "code",
   "execution_count": null,
   "metadata": {
    "colab": {
     "base_uri": "https://localhost:8080/"
    },
    "id": "rxy7EhacxHcf",
    "outputId": "8f80ef51-b7bf-4538-ff89-ed815fa70d1b"
   },
   "outputs": [],
   "source": [
    "A = np.array([1 + 1j, 2 + 3j, 3 + 5j])\n",
    "cfl.writecfl('A', A)\n",
    "! ls A.*\n",
    "! bart show A"
   ]
  },
  {
   "cell_type": "markdown",
   "metadata": {
    "id": "hXGJQ_0Sv_JP"
   },
   "source": [
    "Note that when calling BART functions from the command-line, you do not need to include the extension. This is because BART understands to look for both the `.cfl` and `.hdr` files."
   ]
  },
  {
   "cell_type": "code",
   "execution_count": null,
   "metadata": {
    "colab": {
     "base_uri": "https://localhost:8080/"
    },
    "id": "nqI7NfFYxuhw",
    "outputId": "a0040153-da51-442c-8f31-44efaab77bdd"
   },
   "outputs": [],
   "source": [
    "! bart ones 2 3 3 B\n",
    "B = cfl.readcfl('B')\n",
    "B"
   ]
  },
  {
   "cell_type": "markdown",
   "metadata": {
    "id": "WJzGVMeuDwXe"
   },
   "source": [
    "Because the header file is a text file, we can directly print it:"
   ]
  },
  {
   "cell_type": "code",
   "execution_count": null,
   "metadata": {
    "colab": {
     "base_uri": "https://localhost:8080/"
    },
    "id": "DWONQd_zDwXf",
    "outputId": "be0e6a24-8525-40cd-ff6f-b5d611bf27d7"
   },
   "outputs": [],
   "source": [
    "! cat B.hdr"
   ]
  },
  {
   "cell_type": "markdown",
   "metadata": {
    "id": "741w3qC8DwXf"
   },
   "source": [
    "Although not discussed here, BART can write to other file formats that might not have a text header. Thus, it is better to use the show command:"
   ]
  },
  {
   "cell_type": "code",
   "execution_count": null,
   "metadata": {
    "colab": {
     "base_uri": "https://localhost:8080/"
    },
    "id": "GQFw_AUGDwXh",
    "outputId": "6d676f73-69b1-44bd-ee99-0e61a18582af"
   },
   "outputs": [],
   "source": [
    "! bart show -m B"
   ]
  },
  {
   "cell_type": "markdown",
   "metadata": {
    "collapsed": true,
    "id": "jzz1q1nUDwXh"
   },
   "source": [
    "Our dataset is 16-dimensional, but only the first two dimensions are non-singleton.\n",
    "\n",
    "By convention, the dimensions are `[X, Y, Z, C, M, T, F, ...]`,\n",
    "where `(X, Y, Z)` are the spatial matrix dimensions,  \n",
    "`C` and `M` are the coil dimensions and ESPIRiT maps dimensions, respectively,  \n",
    "`T` and `F` are used for echo times and coefficient dimensions,   \n",
    "followed by other higher order dimensions such as flow encoding, etc.\n",
    "\n",
    "When using the Python interface, note that higher-order singleton dimensions will be squeezed and thus might not show up as 16-dimensional."
   ]
  },
  {
   "cell_type": "markdown",
   "metadata": {
    "id": "rkEKZc2wDwXh"
   },
   "source": [
    "### Using Bitmasks to select dimensions\n",
    "Let's reconstruct our BART k-space phantom using a inverse Fast Fourier Transform (IFFT). Let's first see the options of the FFT command"
   ]
  },
  {
   "cell_type": "code",
   "execution_count": null,
   "metadata": {
    "colab": {
     "base_uri": "https://localhost:8080/"
    },
    "id": "f5qGxMTdyhZq",
    "outputId": "a9baf08b-27bc-4cb6-9ed1-8fd92dd47573"
   },
   "outputs": [],
   "source": [
    "bart(0, 'fft -h')"
   ]
  },
  {
   "cell_type": "markdown",
   "metadata": {
    "id": "F79--nqbylWW"
   },
   "source": [
    "The FFT command takes some optional arguments. It then takes three required arguments: `bitmask`, `<input>`, and `<output`>."
   ]
  },
  {
   "cell_type": "code",
   "execution_count": null,
   "metadata": {
    "colab": {
     "base_uri": "https://localhost:8080/"
    },
    "id": "eM-IcLhcy52_",
    "outputId": "52e201fd-a58b-4054-e4c0-a1b4c1c3aab1"
   },
   "outputs": [],
   "source": [
    "# check the shape of our BART phantom\n",
    "print(bart_phantom_ksp.shape)"
   ]
  },
  {
   "cell_type": "code",
   "execution_count": null,
   "metadata": {
    "colab": {
     "base_uri": "https://localhost:8080/",
     "height": 792
    },
    "id": "7IinGE42DwXi",
    "outputId": "dcfa4027-1e42-4cbf-c8ac-5e4a127f8c83"
   },
   "outputs": [],
   "source": [
    "# Perform IFFT reconstruction\n",
    "\n",
    "bart_phantom_rec = bart(1, 'fft -i 3', bart_phantom_ksp)\n",
    "bart_plot(bart_phantom_rec, 'IFFT of BART k-space phantom')"
   ]
  },
  {
   "cell_type": "markdown",
   "metadata": {
    "id": "E8Ja88-DDwXk"
   },
   "source": [
    "Thus, we performed an inverse (`-i`) Fast Fourier Transform on the image dimensions **`(0, 1)`** specified by the bitmask **`3`**.\n"
   ]
  },
  {
   "cell_type": "markdown",
   "metadata": {
    "id": "Q66iAkUMDwXk"
   },
   "source": [
    "BART loops over dimensions selected by *bitmasks*. This is a powerful approach for perfoming multi-dimensional operations, as most tools will work on arbitrarily chosen dimensions.  \n",
    "\n",
    "In our case, we wanted to perform an iFFT along dimensions 0 and 1, and the corresponding bitmask is calculated as:  \n",
    "<center>\n",
    "$ \\text{bitmask}=2^{~0} + 2^{~1} = 3$\n",
    "</center> <br>\n",
    "BART also provides a command-line tool to calculate the bitmasks for specific dimensions."
   ]
  },
  {
   "cell_type": "code",
   "execution_count": null,
   "metadata": {
    "colab": {
     "base_uri": "https://localhost:8080/"
    },
    "id": "w_Lgk8REDwXl",
    "outputId": "0905efb3-189f-4b69-ee8e-381c73f3a761"
   },
   "outputs": [],
   "source": [
    "# Calculate bitmask for active dimensions 0 and 1\n",
    "! bart bitmask 0 1"
   ]
  },
  {
   "cell_type": "markdown",
   "metadata": {
    "id": "D-kp4Dbez7H-"
   },
   "source": [
    "Let's compare the reconstructed BART phantom to the original image-domain phantom.\n",
    "\n",
    "First we will create a difference array by subtracting the two images.\n",
    "\n",
    "Next we will concatenate the  arrays along the second dimension so that we can plot them as one row:\n"
   ]
  },
  {
   "cell_type": "code",
   "execution_count": null,
   "metadata": {
    "colab": {
     "base_uri": "https://localhost:8080/",
     "height": 329
    },
    "id": "J9L10ZoH0EOl",
    "outputId": "8e0766aa-3b84-4892-9b1f-6b11329b5b36"
   },
   "outputs": [],
   "source": [
    "err_rec = bart_phantom - bart_phantom_rec\n",
    "phantom_compare = np.concatenate((bart_phantom, bart_phantom_rec, err_rec), 1)\n",
    "print(phantom_compare.shape)\n",
    "bart_plot(phantom_compare, title='Image-domain phantom vs. bart phantom')"
   ]
  },
  {
   "cell_type": "markdown",
   "metadata": {
    "id": "84l-LI4V1OLa"
   },
   "source": [
    "\n",
    "**Question: why are the two images not identical?**"
   ]
  },
  {
   "cell_type": "markdown",
   "metadata": {
    "id": "tIKCcmsTDwXl"
   },
   "source": [
    "## BART Examples\n"
   ]
  },
  {
   "cell_type": "markdown",
   "metadata": {
    "id": "ePpy5MiNtR7d"
   },
   "source": [
    "### Multi-coil Shepp Logan phantom\n",
    "\n",
    "A complete tutorial for creating and reconstructing phantom data can be found in the [1st BART Webinar Materials](https://github.com/mrirecon/bart-webinars/blob/master/webinar1/day1_advanced_recon.ipynb)\n",
    "\n",
    "We start with a simple example that already demonstrates some useful functions in BART:\n",
    "\n",
    "- Creation of synthetic k-space data using the `phantom` tool\n",
    "- Creation of subsampling patterns using the `usamp` tool\n",
    "- Calibration of sensitivities using ESPIRIT using the `ecalib` tool\n",
    "- Parallel imaging reconstruction using the `pics` tool\n",
    "\n",
    "On the first step, we will create synthetic multi-coil k-space data using the `phantom` tool. We use the '-k' option to specify that we want to simulate k-space data, the -x option to set the matrix size and -s to set the number of coils."
   ]
  },
  {
   "cell_type": "code",
   "execution_count": null,
   "metadata": {
    "id": "4zUsKBq_81yF"
   },
   "outputs": [],
   "source": [
    "# convenience function for unraveling a multi-coil array for plotting\n",
    "def unravel(arr):\n",
    "  return np.reshape(arr.transpose((0,3,1,2)), (arr.shape[0], np.prod(arr.shape[1:])))"
   ]
  },
  {
   "cell_type": "code",
   "execution_count": null,
   "metadata": {
    "colab": {
     "base_uri": "https://localhost:8080/",
     "height": 167
    },
    "id": "NBpQP3Rl2W1d",
    "outputId": "aeab47e2-d0c4-4e2a-c8b3-4ad703602b7a"
   },
   "outputs": [],
   "source": [
    "num_coils = 8\n",
    "num_samples = 256\n",
    "\n",
    "# create fully-sampled Cartesian multi-coil phantom in k-space\n",
    "shepp = bart(1, 'phantom -k -x {} -s {}'.format(num_samples, num_coils))\n",
    "print(shepp.shape)\n",
    "\n",
    "bart_plot(unravel(shepp), title='multi-channel k-space phantom', vmax=100)"
   ]
  },
  {
   "cell_type": "markdown",
   "metadata": {
    "id": "vQHZ3oI23R7m"
   },
   "source": [
    "Next, we create a subsampling pattern. We can use BART to create sampling patterns suitable for 3D Cartesian imaging using the `poisson` and `upat` commands. Of course, we can use any tools we want to create them. Here, I will show off some of BART's other tools to create an equispaced 2D sampling pattern with a fully sampled center. This is of course not the most efficient way to create it -- it's just a nice way to showcase the tools."
   ]
  },
  {
   "cell_type": "code",
   "execution_count": null,
   "metadata": {
    "colab": {
     "base_uri": "https://localhost:8080/",
     "height": 903
    },
    "id": "1LvgLg5l3zWE",
    "outputId": "75512540-0085-4d6f-82f2-850ed923dbc4"
   },
   "outputs": [],
   "source": [
    "acs_size = 20\n",
    "phase_accel = 2\n",
    "\n",
    "# create a fully sampled ACS region\n",
    "if acs_size > 0:\n",
    "  acs_array = bart(1, 'ones 2 {} {}'.format(num_samples, acs_size))\n",
    "else:\n",
    "  acs_array = bart(1, 'zeros 2 {} {}'.format(num_samples, 2))\n",
    "print(acs_array.shape)\n",
    "\n",
    "acs_region = bart(1, 'resize -c 1 {}'.format(num_samples), acs_array)\n",
    "print(acs_region.shape)\n",
    "\n",
    "\n",
    "# create a zeros array of size phase_accel - 1\n",
    "zeros_array = bart(1, 'zeros 2 {} {}'.format(num_samples, phase_accel - 1))\n",
    "if phase_accel == 2:\n",
    "  zeros_array = zeros_array[:,None]\n",
    "print(zeros_array.shape)\n",
    "\n",
    "# create a ones array of size 1 and concatenate with zeros_array\n",
    "ones_array = bart(1, 'ones 2 {} 1'.format(num_samples, 1))\n",
    "print(ones_array.shape)\n",
    "zo_array = np.concatenate((zeros_array, ones_array[:,None]), 1)\n",
    "print(zo_array.shape)\n",
    "\n",
    "# replicate the zo_array to create a full-sized mask\n",
    "zo2_array = bart(1, 'repmat 2 {}'.format(num_samples // phase_accel), zo_array)\n",
    "print(zo2_array.shape)\n",
    "zo3_array = bart(1, 'reshape 6 {} 1'.format(num_samples), zo2_array)\n",
    "print(zo3_array.shape)\n",
    "\n",
    "# combine with acs region\n",
    "mask = (zo3_array + acs_region) > 0\n",
    "\n",
    "bart_plot(mask)"
   ]
  },
  {
   "cell_type": "code",
   "execution_count": null,
   "metadata": {
    "colab": {
     "base_uri": "https://localhost:8080/",
     "height": 159
    },
    "id": "UKIxZ5A260ll",
    "outputId": "9326aaa6-8691-401b-b2e3-2e4e15c00b06"
   },
   "outputs": [],
   "source": [
    "shepp_upat = shepp * mask[...,None,None]\n",
    "bart_plot(unravel(shepp_upat), title='sub-sampled k-space', vmax=100)"
   ]
  },
  {
   "cell_type": "markdown",
   "metadata": {
    "id": "51B5sGEO7EQ-"
   },
   "source": [
    "Note that we used numpy broadcasting to automatically apply the mask to each coil.\n",
    "\n",
    "After creating the under-sample data, we now first perform a simple reconstruction using an inverse Fourier transform (`fft`) and root-sum-of-squares coil combination (`rss`)."
   ]
  },
  {
   "cell_type": "code",
   "execution_count": null,
   "metadata": {
    "colab": {
     "base_uri": "https://localhost:8080/",
     "height": 792
    },
    "id": "efksWNSe7Q63",
    "outputId": "fad9479f-d5d9-4be8-dc53-5c7af9b52ce5"
   },
   "outputs": [],
   "source": [
    "# simple IFFT + RSS reconstruction\n",
    "\n",
    "# perform inverse FFT. Use the unitary flag for unitary transform\n",
    "shepp_fft = bart(1, 'fft -iu 3', shepp_upat)\n",
    "\n",
    "# RSS-combine\n",
    "shepp_rss = bart(1, 'rss 8', shepp_fft)\n",
    "\n",
    "bart_plot(shepp_rss, title='RSS Recon')"
   ]
  },
  {
   "cell_type": "markdown",
   "metadata": {
    "id": "4XWVSz7E7Luq"
   },
   "source": [
    "The result is (of course) not very good. The image is corrupted with aliasing artifacts due to the equispaced subsampling.\n",
    "\n",
    "Let's try a more advanced reconstruction technique. We will first determine the coil sensitivities. Here, we use the ESPIRiT algorithm to obtain the sensitivity maps for each coil. We will now have a closer look at the ESPIRiT `ecalib` tool."
   ]
  },
  {
   "cell_type": "code",
   "execution_count": null,
   "metadata": {
    "colab": {
     "base_uri": "https://localhost:8080/"
    },
    "id": "a7-VFmKZ8Yee",
    "outputId": "e4d579de-33eb-4721-e379-a9be007eff16"
   },
   "outputs": [],
   "source": [
    "bart(0, 'ecalib -h')"
   ]
  },
  {
   "cell_type": "markdown",
   "metadata": {
    "id": "kgB0TaMr8bvW"
   },
   "source": [
    "The default number of maps is 2. For simplicity we will only use one set of coil sensitivities in this example by using the option `-m 1`."
   ]
  },
  {
   "cell_type": "code",
   "execution_count": null,
   "metadata": {
    "colab": {
     "base_uri": "https://localhost:8080/",
     "height": 176
    },
    "id": "UGqYKaL_8e8H",
    "outputId": "9d9c578e-ab9f-4865-f6d4-e40c98c077c6"
   },
   "outputs": [],
   "source": [
    "# compute sensitivity maps with ESPIRiT\n",
    "sens_maps = bart(1, 'ecalib -m1', shepp_upat)\n",
    "\n",
    "bart_plot(unravel(sens_maps), title='Sensitivity maps')"
   ]
  },
  {
   "cell_type": "markdown",
   "metadata": {
    "id": "kNWQGBaX9ISp"
   },
   "source": [
    "Given the sensitivities, we can use the `pics` command to perform iterative parallel imaging reconstruction using various regularization terms. It solves the folllowing minimization problem:\n",
    "\n",
    "$\\arg\\min_x ||PFS x - y|| + \\lambda R(x)$, where:\n",
    "- $P$ is the sampling operator\n",
    "- $F$ is the Fourier transform\n",
    "- $S$ is the multiplication with the sensitivity maps\n",
    "- $x$ is the unknown image\n",
    "- $y$ are the acquired multi-coil k-space data\n",
    "- $R$ is a regularization functional\n",
    "- $\\lambda$ is the regularization weighting parameter\n",
    "\n",
    "A popular regularization is $\\ell_2$, i.e. $R(x) = ||x||_2^2$.\n",
    "\n",
    "The objective function then corresponds to a SENSE reconstruction."
   ]
  },
  {
   "cell_type": "code",
   "execution_count": null,
   "metadata": {
    "colab": {
     "base_uri": "https://localhost:8080/",
     "height": 886
    },
    "id": "VpZUYJl894d5",
    "outputId": "dca0340f-b269-40bd-87d4-48d699763a2a"
   },
   "outputs": [],
   "source": [
    "lamda = 0.005\n",
    "num_iter = 50\n",
    "\n",
    "# parallel imaging reconstruction using l2 regularization\n",
    "shepp_l2 = bart(1, 'pics -S -l2 -r {} -i {}'.format(lamda, num_iter), shepp_upat, sens_maps)\n",
    "\n",
    "bart_plot(shepp_l2, 'CG-SENSE reconstruction')"
   ]
  },
  {
   "cell_type": "code",
   "execution_count": null,
   "metadata": {
    "colab": {
     "base_uri": "https://localhost:8080/",
     "height": 434
    },
    "id": "WsnLqY2F-RPF",
    "outputId": "d7a46b96-58c9-4c28-8485-66ea18902d0b"
   },
   "outputs": [],
   "source": [
    "# combine images for display\n",
    "\n",
    "bart_plot(np.concatenate((shepp_rss, shepp_l2), 1), title='RSS vs CG-SENSE reconstructions')"
   ]
  },
  {
   "cell_type": "markdown",
   "metadata": {
    "id": "o_Mrkt6PDXyD"
   },
   "source": [
    "## Reconstructing data from the scanner\n",
    "\n",
    "Because the BART file format is simple, it is possible to read data from many different sources. The BART command includes the `twixread` tool for basic reading of Siemens `.dat` files. We also include GE Orchestra libraries for reading P-File and ScanArchives, called [ox-bart](https://github.com/mrirecon/ox-bart).\n",
    "\n",
    "In the data folder, we have already converted a k-space dataset from a vendor-specific format to BART format. The files are the following:\n",
    "\n",
    "- `ksp`: Raw k-space data\n",
    "- `ref`: Autocalibration reference scan\n",
    "- `noise`: Noise pre-scan\n",
    "\n",
    "We will use all three for reconstruction"
   ]
  },
  {
   "cell_type": "code",
   "execution_count": null,
   "metadata": {
    "colab": {
     "base_uri": "https://localhost:8080/"
    },
    "id": "yqy9G1UgEmBJ",
    "outputId": "83a65375-512f-4f94-c08c-2225ffd8e0af"
   },
   "outputs": [],
   "source": [
    "! echo \"ksp:\"\n",
    "! bart show -m ksp\n",
    "! echo\n",
    "! echo \"ref:\"\n",
    "! bart show -m ref\n",
    "! echo\n",
    "! echo \"noise:\"\n",
    "! bart show -m noise"
   ]
  },
  {
   "cell_type": "code",
   "execution_count": null,
   "metadata": {
    "colab": {
     "base_uri": "https://localhost:8080/"
    },
    "id": "M7gHXQhTHTng",
    "outputId": "8bba8509-507d-4948-bd3e-eb753f6d2cad"
   },
   "outputs": [],
   "source": [
    "# load data into Python\n",
    "ksp = cfl.readcfl('ksp')\n",
    "print('ksp:', ksp.shape)\n",
    "\n",
    "ref = cfl.readcfl('ref')\n",
    "print('ref:', ref.shape)\n",
    "\n",
    "noise = cfl.readcfl('noise')\n",
    "print('noise:', noise.shape)"
   ]
  },
  {
   "cell_type": "code",
   "execution_count": null,
   "metadata": {
    "colab": {
     "base_uri": "https://localhost:8080/",
     "height": 970
    },
    "id": "6Hg5S-RsIxU1",
    "outputId": "4f3f3ec5-fa33-45bd-9796-c670bb184883"
   },
   "outputs": [],
   "source": [
    "bart_plot(unravel(ref), title='Ref', vmax=.001)\n",
    "bart_plot(unravel(ksp), title='k-space', vmax=.0001)"
   ]
  },
  {
   "cell_type": "markdown",
   "metadata": {
    "id": "PAquM5UcHig6"
   },
   "source": [
    "Based on the array sizes and dimensions, we can infer that the readout dimension is 768 samples, the phase encode dimension is 382, and there are 16 coils. Notice that the reference scan has 33 phase-encode ACS lines.\n",
    "\n",
    "\n",
    "Our scanner automatically doubles the FOV in the readout dimension.\n",
    "\n",
    "As first steps, let's (1) crop the data in the readout dimension to FOV/2, and (2) zero-pad the ref data to be the same phase-encode size as the k-space data. Then let's perform IFFTs and look at them in the image domain."
   ]
  },
  {
   "cell_type": "code",
   "execution_count": null,
   "metadata": {
    "colab": {
     "base_uri": "https://localhost:8080/",
     "height": 192
    },
    "id": "1L0DnWVsH1CW",
    "outputId": "6a4f1c78-6a31-4949-f59e-cb200d7dd55e"
   },
   "outputs": [],
   "source": [
    "ksp_crop = bart(1, 'fft -u 1', bart(1, 'resize -c 0 {}'.format(ksp.shape[0]//2), bart(1, 'fft -iu 1', ksp)))\n",
    "ref_crop = bart(1, 'fft -u 1', bart(1, 'resize -c 0 {}'.format(ref.shape[0]//2), bart(1, 'fft -iu 1', ref)))\n",
    "\n",
    "ref_zpad = bart(1, 'resize -c 1 {}'.format(ksp_crop.shape[1]), ref_crop)\n",
    "bart_plot(unravel(bart(1, 'fft -iu 3', ref_zpad)), title='Ref scan')\n",
    "bart_plot(unravel(bart(1, 'fft -iu 3', ksp_crop)), title='coil images')"
   ]
  },
  {
   "cell_type": "markdown",
   "metadata": {
    "id": "bMHreN8GJD52"
   },
   "source": [
    "## Noise pre-whitening\n",
    "Before reconstruction, it is a good idea to do noise pre-whitening. Most vendors should provide you with a noise pre-scan. If not, then you should complain to your vendor!\n",
    "\n",
    "For more information about pre-whitening, as well as other excellent topics in parallel imaging, check out the [ISMRM 2015 Sunrise Course on The Image Reconstruction Pipeline](http://hansenms.github.io/sunrise/) by Michael Hansen.\n",
    "\n",
    "We can use the BART `whiten` tool to inspect the covariance matrix and create a noise prewhitening matrix."
   ]
  },
  {
   "cell_type": "code",
   "execution_count": null,
   "metadata": {
    "colab": {
     "base_uri": "https://localhost:8080/"
    },
    "id": "7v55WBqEKCAU",
    "outputId": "fa219d10-30dc-40b7-c1ef-02f198fa17f6"
   },
   "outputs": [],
   "source": [
    "bart(0, 'whiten -h')"
   ]
  },
  {
   "cell_type": "code",
   "execution_count": null,
   "metadata": {
    "colab": {
     "base_uri": "https://localhost:8080/",
     "height": 1000
    },
    "id": "NrD7p4cGJC68",
    "outputId": "6ef4f48f-f77d-4787-ba64-7c1730a57733"
   },
   "outputs": [],
   "source": [
    "noise_cov = np.conj(noise.squeeze()).T @ noise.squeeze() / (noise.shape[0] - 1)\n",
    "bart_plot(noise_cov, cmap='viridis', vmin=0, title='Noise covariance matrix (before whitening)')\n",
    "\n",
    "noise_white = bart(1, 'whiten -n', noise, noise)\n",
    "noise_white_cov = np.conj(noise_white.squeeze()).T @ noise_white.squeeze() / (noise_white.shape[0] - 1)\n",
    "bart_plot(noise_white_cov, cmap='viridis', vmin=0, title='Noise covariance matrix (after whitening)')\n"
   ]
  },
  {
   "cell_type": "code",
   "execution_count": null,
   "metadata": {
    "colab": {
     "base_uri": "https://localhost:8080/",
     "height": 193
    },
    "id": "E_i9Nx4XLxKU",
    "outputId": "2fb045d1-867a-4588-cd6a-1c65f7631e28"
   },
   "outputs": [],
   "source": [
    "ksp_white = bart(1, 'whiten -n', ksp_crop, noise)\n",
    "ref_white = bart(1, 'whiten -n', ref_crop, noise)\n",
    "\n",
    "ref_white_zpad = bart(1, 'resize -c 1 {}'.format(ksp_crop.shape[1]), ref_white)\n",
    "bart_plot(unravel(bart(1, 'fft -iu 3', ref_zpad)), title='Ref coils (before whitening)', vmax=.00001)\n",
    "bart_plot(unravel(bart(1, 'fft -iu 3', ref_white_zpad)), title='Ref coils (after whitening)', vmax=2)"
   ]
  },
  {
   "cell_type": "markdown",
   "metadata": {
    "id": "KkLHKkmhukOC"
   },
   "source": [
    "#### Coil Compression\n",
    "To reduce the size of our dataset and therefore also decrease the computational complexity, we perform a coil compression with the `cc` command.\n",
    "\n",
    "We will do coil compression in 2 steps. We will first use ``cc` on the reference data to create the coil compression matrix. We will then use ``ccapply` to apply it to both the reference data and to the k-space data. This way we use the same coil compression matrix for both arrays.\n",
    "\n",
    "By passing `-A` we choose to use all possible data and to reduce the dataset to 8 virtual coils with `-p`.\n"
   ]
  },
  {
   "cell_type": "code",
   "execution_count": null,
   "metadata": {
    "colab": {
     "base_uri": "https://localhost:8080/"
    },
    "id": "H7m5VK89uqqn",
    "outputId": "9f3053c5-2e96-4f64-f919-3cc6f25892c8"
   },
   "outputs": [],
   "source": [
    "cc_mat = bart(1, 'cc -A', ref_white)\n",
    "\n",
    "ref_white_cc = bart(1, 'ccapply -p 8', ref_white, cc_mat)\n",
    "ref_white_cc_zpad = bart(1, 'resize -c 1 {}'.format(ksp_crop.shape[1]), ref_white_cc)\n",
    "\n",
    "ksp_white_cc = bart(1, 'ccapply -p 8', ksp_white, cc_mat)\n",
    "\n",
    "print(ksp_white_cc.shape)"
   ]
  },
  {
   "cell_type": "markdown",
   "metadata": {
    "id": "ho2Y4N9_PvIs"
   },
   "source": [
    "#### RSS reconstructions\n",
    "Let's do simple RSS reconstructions of the reference and subsampled data"
   ]
  },
  {
   "cell_type": "code",
   "execution_count": null,
   "metadata": {
    "colab": {
     "base_uri": "https://localhost:8080/",
     "height": 427
    },
    "id": "V-X169uMPzLC",
    "outputId": "ff722e60-05fd-46f6-feec-af36db72d4eb"
   },
   "outputs": [],
   "source": [
    "ref_rss = bart(1, 'rss 8', bart(1, 'fft -iu 3', ref_white_cc_zpad)).real\n",
    "ksp_rss = bart(1, 'rss 8 ', bart(1, 'fft -iu 3', ksp_white_cc)).real\n",
    "\n",
    "bart_plot(np.concatenate((ref_rss, ksp_rss), 1), title='RSS of ref data vs RSS of subsampled data')"
   ]
  },
  {
   "cell_type": "markdown",
   "metadata": {
    "id": "vMR9HvyLv7RN"
   },
   "source": [
    "#### Coil Sensitivity Estimation\n",
    "\n",
    "The coil profile estimation is similar to the case with the phantom data, except it is  applied to the ref scan."
   ]
  },
  {
   "cell_type": "code",
   "execution_count": null,
   "metadata": {
    "colab": {
     "base_uri": "https://localhost:8080/",
     "height": 176
    },
    "id": "Rw2nBqkev-dV",
    "outputId": "509a6e8c-1ad9-47ea-dc21-aca4ab4daab2"
   },
   "outputs": [],
   "source": [
    "sens_maps = bart(1, 'ecalib -m1', ref_white_cc_zpad)\n",
    "bart_plot(unravel(sens_maps), title='Coil-compressed sensitivity maps')"
   ]
  },
  {
   "cell_type": "markdown",
   "metadata": {
    "id": "3AxOykoMwTps"
   },
   "source": [
    "#### Parallel imaging reconstruction\n",
    "We again use `pics` with l2 regularization. This time we use the ref data to get an approximate scale factor and pass it directly to the `pics` command."
   ]
  },
  {
   "cell_type": "code",
   "execution_count": null,
   "metadata": {
    "colab": {
     "base_uri": "https://localhost:8080/"
    },
    "id": "jLgG5jxbPNyf",
    "outputId": "55f873f6-7643-480f-e1a7-e1f3bb4bdc30"
   },
   "outputs": [],
   "source": [
    "# get scale factor from the ref data\n",
    "scale_factor = np.percentile(ref_rss, 99)\n",
    "print('reconstruction scale factor: {}'.format(scale_factor))"
   ]
  },
  {
   "cell_type": "code",
   "execution_count": null,
   "metadata": {
    "colab": {
     "base_uri": "https://localhost:8080/"
    },
    "id": "N8zOL3vpwZOy",
    "outputId": "222045f3-be8b-4355-a836-67e49da15221"
   },
   "outputs": [],
   "source": [
    "lamda = .0015\n",
    "debug_level = 4\n",
    "reco = bart(1, 'pics -d {} -l2 -r {} -S -w {}'.format(debug_level, lamda, scale_factor), ksp_white_cc, sens_maps)"
   ]
  },
  {
   "cell_type": "markdown",
   "metadata": {
    "id": "y_rpDr3kwnRL"
   },
   "source": [
    "#### Visualize reconstruction"
   ]
  },
  {
   "cell_type": "code",
   "execution_count": null,
   "metadata": {
    "colab": {
     "base_uri": "https://localhost:8080/",
     "height": 782
    },
    "id": "mcU_b2E8wstT",
    "outputId": "5b9bb0b3-dafd-4a43-f86c-8480afbc590a"
   },
   "outputs": [],
   "source": [
    "bart_plot(reco, title='CG-SENSE Reconstruction')"
   ]
  }
 ],
 "metadata": {
  "colab": {
   "collapsed_sections": [
    "e5RxFHCDnKGt"
   ],
   "provenance": [],
   "toc_visible": true
  },
  "kernelspec": {
   "display_name": "Python 3",
   "language": "python",
   "name": "python3"
  },
  "language_info": {
   "codemirror_mode": {
    "name": "ipython",
    "version": 3
   },
   "file_extension": ".py",
   "mimetype": "text/x-python",
   "name": "python",
   "nbconvert_exporter": "python",
   "pygments_lexer": "ipython3",
   "version": "3.7.10"
  }
 },
 "nbformat": 4,
 "nbformat_minor": 1
}
